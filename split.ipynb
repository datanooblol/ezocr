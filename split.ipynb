{
 "cells": [
  {
   "cell_type": "code",
   "execution_count": 1,
   "metadata": {},
   "outputs": [],
   "source": [
    "from glob import glob"
   ]
  },
  {
   "cell_type": "code",
   "execution_count": 2,
   "metadata": {},
   "outputs": [],
   "source": [
    "data = glob('./dataset/base/images/*')"
   ]
  },
  {
   "cell_type": "code",
   "execution_count": 3,
   "metadata": {},
   "outputs": [],
   "source": [
    "import random\n",
    "\n",
    "def sampling(base, train=0.7, val=0.2, test=0.1):\n",
    "    \"\"\"\n",
    "    Split the input list into train, validation, and test sets without repetition.\n",
    "    \n",
    "    Args:\n",
    "        base (list): The list of elements to split.\n",
    "        train (float): Proportion of data for the training set.\n",
    "        val (float): Proportion of data for the validation set.\n",
    "        test (float): Proportion of data for the test set.\n",
    "    \n",
    "    Returns:\n",
    "        tuple: Three lists representing the train, validation, and test sets.\n",
    "    \"\"\"\n",
    "    if not (0 <= train <= 1 and 0 <= val <= 1 and 0 <= test <= 1):\n",
    "        raise ValueError(\"Proportions must be between 0 and 1.\")\n",
    "    \n",
    "    if abs(train + val + test - 1.0) > 1e-6:\n",
    "        raise ValueError(\"Proportions must sum to 1.\")\n",
    "    \n",
    "    # Shuffle the base list\n",
    "    shuffled = base[:]\n",
    "    random.shuffle(shuffled)\n",
    "    \n",
    "    # Calculate the split indices\n",
    "    n = len(base)\n",
    "    train_end = int(n * train)\n",
    "    val_end = train_end + int(n * val)\n",
    "    \n",
    "    # Split the data\n",
    "    trainset = shuffled[:train_end]\n",
    "    valset = shuffled[train_end:val_end]\n",
    "    testset = shuffled[val_end:]\n",
    "    \n",
    "    return trainset, valset, testset\n",
    "\n",
    "trainset, valset, testset = sampling(data)"
   ]
  },
  {
   "cell_type": "code",
   "execution_count": 4,
   "metadata": {},
   "outputs": [
    {
     "data": {
      "text/plain": [
       "set()"
      ]
     },
     "execution_count": 4,
     "metadata": {},
     "output_type": "execute_result"
    }
   ],
   "source": [
    "set(trainset) & set(valset) & set(testset)"
   ]
  },
  {
   "cell_type": "code",
   "execution_count": 6,
   "metadata": {},
   "outputs": [
    {
     "data": {
      "text/plain": [
       "(151, 43, 22)"
      ]
     },
     "execution_count": 6,
     "metadata": {},
     "output_type": "execute_result"
    }
   ],
   "source": [
    "len(trainset), len(valset), len(testset)"
   ]
  },
  {
   "cell_type": "code",
   "execution_count": 9,
   "metadata": {},
   "outputs": [
    {
     "data": {
      "text/plain": [
       "('530f8196-39.jpg', './dataset/base/images')"
      ]
     },
     "execution_count": 9,
     "metadata": {},
     "output_type": "execute_result"
    }
   ],
   "source": [
    "import os\n",
    "os.path.basename(trainset[0]), os.path.dirname(trainset[0])"
   ]
  },
  {
   "cell_type": "code",
   "execution_count": 11,
   "metadata": {},
   "outputs": [
    {
     "data": {
      "text/plain": [
       "'abc\\\\def.jpg'"
      ]
     },
     "execution_count": 11,
     "metadata": {},
     "output_type": "execute_result"
    }
   ],
   "source": [
    "os.path.join(\"abc\", f\"def.jpg\")"
   ]
  },
  {
   "cell_type": "code",
   "execution_count": 38,
   "metadata": {},
   "outputs": [],
   "source": [
    "import os\n",
    "import shutil\n",
    "def save_dataset(target_path, trainset, valset, testset):\n",
    "    objectives = ['train', 'val', 'test']\n",
    "    for path in objectives:\n",
    "        os.makedirs(f\"{target_path}/{path}/images\", exist_ok=True)\n",
    "        os.makedirs(f\"{target_path}/{path}/labels\", exist_ok=True)\n",
    "    for objective, dataset in dict(zip(objectives, [trainset, valset, testset])).items():\n",
    "        for data in dataset:\n",
    "            file_name = os.path.basename(data).split('.')[0]\n",
    "            dir_name = os.path.dirname(data)\n",
    "            # print(f\"\"\"{os.path.join(dir_name, f\"{file_name}.jpg\")} {os.path.join(target_path, objective, \"images\", f\"{file_name}.jpg\")}\"\"\")\n",
    "            shutil.copy(f\"\"\"{os.path.join(*dir_name.split(\"/\")[0:-1], \"images\", f\"{file_name}.jpg\")}\"\"\", f\"\"\"{os.path.join(*target_path.split(\"/\"), objective, \"images\", f\"{file_name}.jpg\")}\"\"\")\n",
    "            shutil.copy(f\"\"\"{os.path.join(*dir_name.split(\"/\")[0:-1], \"labels\", f\"{file_name}.txt\")}\"\"\", f\"\"\"{os.path.join(*target_path.split(\"/\"), objective, \"labels\", f\"{file_name}.txt\")}\"\"\")\n",
    "\n",
    "    print(f\"moved successfully to {target_path}: {len(trainset)+len(valset)+len(testset)} files\")"
   ]
  },
  {
   "cell_type": "code",
   "execution_count": 39,
   "metadata": {},
   "outputs": [
    {
     "name": "stdout",
     "output_type": "stream",
     "text": [
      "moved successfully to ./dataset: 216 files\n"
     ]
    }
   ],
   "source": [
    "save_dataset(target_path=\"./dataset\", trainset=trainset, valset=valset, testset=testset)"
   ]
  },
  {
   "cell_type": "code",
   "execution_count": 33,
   "metadata": {},
   "outputs": [
    {
     "data": {
      "text/plain": [
       "'./dataset/base/images\\\\530f8196-39.jpg'"
      ]
     },
     "execution_count": 33,
     "metadata": {},
     "output_type": "execute_result"
    }
   ],
   "source": [
    "trainset[0]"
   ]
  },
  {
   "cell_type": "code",
   "execution_count": null,
   "metadata": {},
   "outputs": [],
   "source": []
  }
 ],
 "metadata": {
  "kernelspec": {
   "display_name": ".venv",
   "language": "python",
   "name": "python3"
  },
  "language_info": {
   "codemirror_mode": {
    "name": "ipython",
    "version": 3
   },
   "file_extension": ".py",
   "mimetype": "text/x-python",
   "name": "python",
   "nbconvert_exporter": "python",
   "pygments_lexer": "ipython3",
   "version": "3.10.16"
  }
 },
 "nbformat": 4,
 "nbformat_minor": 2
}
